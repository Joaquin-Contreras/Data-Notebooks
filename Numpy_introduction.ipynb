{
  "cells": [
    {
      "cell_type": "markdown",
      "metadata": {
        "id": "view-in-github",
        "colab_type": "text"
      },
      "source": [
        "<a href=\"https://colab.research.google.com/github/LaoIts/GoogleColab-Notebooks/blob/main/Numpy_introduction.ipynb\" target=\"_parent\"><img src=\"https://colab.research.google.com/assets/colab-badge.svg\" alt=\"Open In Colab\"/></a>"
      ]
    },
    {
      "cell_type": "markdown",
      "id": "c7327e82-fd82-4234-a5ec-2c94292c198f",
      "metadata": {
        "id": "c7327e82-fd82-4234-a5ec-2c94292c198f"
      },
      "source": [
        "## Numpy"
      ]
    },
    {
      "cell_type": "markdown",
      "id": "a19730c2-6384-4353-80d1-4df49846f9d6",
      "metadata": {
        "id": "a19730c2-6384-4353-80d1-4df49846f9d6"
      },
      "source": [
        "__Ejercicio 1:__"
      ]
    },
    {
      "cell_type": "markdown",
      "id": "d0c1cfcc-7730-4612-9a49-23f3790b543f",
      "metadata": {
        "id": "d0c1cfcc-7730-4612-9a49-23f3790b543f"
      },
      "source": [
        "Importar numpy"
      ]
    },
    {
      "cell_type": "code",
      "execution_count": null,
      "id": "fdc297ee-bc0d-42b8-a1cb-c01e45fae36d",
      "metadata": {
        "id": "fdc297ee-bc0d-42b8-a1cb-c01e45fae36d"
      },
      "outputs": [],
      "source": [
        "import numpy as np"
      ]
    },
    {
      "cell_type": "code",
      "execution_count": null,
      "id": "a70a8238-60ef-4383-b3da-4714c1074c85",
      "metadata": {
        "id": "a70a8238-60ef-4383-b3da-4714c1074c85"
      },
      "outputs": [],
      "source": [
        "import matplotlib.pyplot as plt"
      ]
    },
    {
      "cell_type": "markdown",
      "id": "6abe2412-1096-42ef-ac26-97d52d483563",
      "metadata": {
        "id": "6abe2412-1096-42ef-ac26-97d52d483563"
      },
      "source": [
        "__Ejercicio 2:__"
      ]
    },
    {
      "cell_type": "code",
      "execution_count": null,
      "id": "d06d31a3-2aba-4262-ba57-bb8b5989bb0f",
      "metadata": {
        "id": "d06d31a3-2aba-4262-ba57-bb8b5989bb0f"
      },
      "outputs": [],
      "source": [
        "lista= [31,28,29,19]"
      ]
    },
    {
      "cell_type": "markdown",
      "id": "a280bead-9a9a-4605-8954-e47d37cac2a6",
      "metadata": {
        "id": "a280bead-9a9a-4605-8954-e47d37cac2a6"
      },
      "source": [
        "Crear una ndarray utilizando la lista anterior"
      ]
    },
    {
      "cell_type": "code",
      "execution_count": null,
      "id": "2fc49c07-0660-44da-8fd0-c5f71fbf67d7",
      "metadata": {
        "id": "2fc49c07-0660-44da-8fd0-c5f71fbf67d7"
      },
      "outputs": [],
      "source": [
        "arr = np.array(lista)"
      ]
    },
    {
      "cell_type": "markdown",
      "id": "a7f7692d-63e3-4688-bbda-9c5dc9340e0f",
      "metadata": {
        "id": "a7f7692d-63e3-4688-bbda-9c5dc9340e0f"
      },
      "source": [
        "__Ejercicio 3:__"
      ]
    },
    {
      "cell_type": "code",
      "execution_count": null,
      "id": "4d0aa5ca-e154-4f9b-9b25-7c7f2695e06b",
      "metadata": {
        "id": "4d0aa5ca-e154-4f9b-9b25-7c7f2695e06b"
      },
      "outputs": [],
      "source": [
        "lista_2d=[[2,3,4],\n",
        "          [3,4,5],\n",
        "          [3,4,5],\n",
        "          [3,4,5]]"
      ]
    },
    {
      "cell_type": "markdown",
      "id": "d7c21cc3-407d-44ef-82a9-82733f2bffee",
      "metadata": {
        "id": "d7c21cc3-407d-44ef-82a9-82733f2bffee"
      },
      "source": [
        "Crear una ndarray utilizando la lista bidimensional anterior"
      ]
    },
    {
      "cell_type": "code",
      "execution_count": null,
      "id": "3aa7c127-4943-45f2-a5a3-3e9ef4cc7589",
      "metadata": {
        "id": "3aa7c127-4943-45f2-a5a3-3e9ef4cc7589"
      },
      "outputs": [],
      "source": [
        "arr = np.array(lista_2d)"
      ]
    },
    {
      "cell_type": "markdown",
      "id": "ef3847b6-eda7-4fd1-b115-3c240a2413a7",
      "metadata": {
        "id": "ef3847b6-eda7-4fd1-b115-3c240a2413a7"
      },
      "source": [
        "__Ejercicio 4:__"
      ]
    },
    {
      "cell_type": "markdown",
      "id": "7ebe38ea-eef2-49d6-b15e-a9ecb2a52b2c",
      "metadata": {
        "id": "7ebe38ea-eef2-49d6-b15e-a9ecb2a52b2c"
      },
      "source": [
        "Utilizar la propiedad shape para obtener la forma del ndarray anterior"
      ]
    },
    {
      "cell_type": "code",
      "execution_count": null,
      "id": "15be0acf-6149-4104-a361-ac862e9e6620",
      "metadata": {
        "colab": {
          "base_uri": "https://localhost:8080/"
        },
        "id": "15be0acf-6149-4104-a361-ac862e9e6620",
        "outputId": "7ef29d10-dac8-4fdd-b568-449becc96f74"
      },
      "outputs": [
        {
          "output_type": "execute_result",
          "data": {
            "text/plain": [
              "(4, 3)"
            ]
          },
          "metadata": {},
          "execution_count": 7
        }
      ],
      "source": [
        "arr.shape"
      ]
    },
    {
      "cell_type": "markdown",
      "id": "4824638b-96e5-4754-be79-8c823f834420",
      "metadata": {
        "id": "4824638b-96e5-4754-be79-8c823f834420"
      },
      "source": [
        "Utilizar la propiedad ndim para obtener las dimensiones del ndarray anterior"
      ]
    },
    {
      "cell_type": "code",
      "execution_count": null,
      "id": "6c2fad0b-cb86-439e-b4a7-7fd3edbba2c7",
      "metadata": {
        "colab": {
          "base_uri": "https://localhost:8080/"
        },
        "id": "6c2fad0b-cb86-439e-b4a7-7fd3edbba2c7",
        "outputId": "cd549112-97f6-4e5c-f021-e69852a511eb"
      },
      "outputs": [
        {
          "output_type": "execute_result",
          "data": {
            "text/plain": [
              "2"
            ]
          },
          "metadata": {},
          "execution_count": 9
        }
      ],
      "source": [
        "arr.ndim        "
      ]
    },
    {
      "cell_type": "markdown",
      "id": "1e434bf5-ec3f-4c86-8e41-09fe3eb736a0",
      "metadata": {
        "id": "1e434bf5-ec3f-4c86-8e41-09fe3eb736a0"
      },
      "source": [
        "Utilizar la propiedad dtype para obtener el tipo de los datos en el ndarray anterior"
      ]
    },
    {
      "cell_type": "code",
      "execution_count": null,
      "id": "69e66663-e400-4795-9f81-84978b1cad1f",
      "metadata": {
        "colab": {
          "base_uri": "https://localhost:8080/"
        },
        "id": "69e66663-e400-4795-9f81-84978b1cad1f",
        "outputId": "31abd69a-d132-41e5-d46f-34d5bc3dfae1"
      },
      "outputs": [
        {
          "output_type": "execute_result",
          "data": {
            "text/plain": [
              "dtype('int64')"
            ]
          },
          "metadata": {},
          "execution_count": 10
        }
      ],
      "source": [
        "arr.dtype"
      ]
    },
    {
      "cell_type": "markdown",
      "id": "184283c0-3789-48fc-bac0-d7cdf275bec4",
      "metadata": {
        "id": "184283c0-3789-48fc-bac0-d7cdf275bec4"
      },
      "source": [
        "Utilizar la propiedad size para obtener la cantidad total de datos en el ndarray anterior"
      ]
    },
    {
      "cell_type": "code",
      "execution_count": null,
      "id": "a22fd4c0-43b7-4bee-b34e-99d0599aee2d",
      "metadata": {
        "colab": {
          "base_uri": "https://localhost:8080/"
        },
        "id": "a22fd4c0-43b7-4bee-b34e-99d0599aee2d",
        "outputId": "06fefa91-1549-4b50-89d2-30dea9982aee"
      },
      "outputs": [
        {
          "output_type": "execute_result",
          "data": {
            "text/plain": [
              "12"
            ]
          },
          "metadata": {},
          "execution_count": 11
        }
      ],
      "source": [
        "arr.size"
      ]
    },
    {
      "cell_type": "markdown",
      "id": "5dd95a43-7d3d-426a-9bd1-48e1bd3b2da9",
      "metadata": {
        "id": "5dd95a43-7d3d-426a-9bd1-48e1bd3b2da9"
      },
      "source": [
        "__Ejercicio 5:__"
      ]
    },
    {
      "cell_type": "markdown",
      "id": "761e91bc-f278-4380-ba5b-d05f9cbdec6f",
      "metadata": {
        "id": "761e91bc-f278-4380-ba5b-d05f9cbdec6f"
      },
      "source": [
        "Crear un ndarray utilizando la lista \"lista_2d\", el tipo de los datos debe ser \"int16\""
      ]
    },
    {
      "cell_type": "code",
      "execution_count": null,
      "id": "94b41715-3d42-427e-a3fd-240487b0ea90",
      "metadata": {
        "id": "94b41715-3d42-427e-a3fd-240487b0ea90"
      },
      "outputs": [],
      "source": [
        "arr = np.array(lista_2d, dtype = np.int16)"
      ]
    },
    {
      "cell_type": "code",
      "source": [
        "arr"
      ],
      "metadata": {
        "colab": {
          "base_uri": "https://localhost:8080/"
        },
        "id": "HkeU7ocdRmUC",
        "outputId": "e5790251-b275-4079-9295-1d01fe36f39c"
      },
      "id": "HkeU7ocdRmUC",
      "execution_count": null,
      "outputs": [
        {
          "output_type": "execute_result",
          "data": {
            "text/plain": [
              "array([[2, 3, 4],\n",
              "       [3, 4, 5],\n",
              "       [3, 4, 5],\n",
              "       [3, 4, 5]], dtype=int16)"
            ]
          },
          "metadata": {},
          "execution_count": 13
        }
      ]
    },
    {
      "cell_type": "markdown",
      "id": "67a2d007-ddec-41df-8bb2-df4a51420fae",
      "metadata": {
        "id": "67a2d007-ddec-41df-8bb2-df4a51420fae"
      },
      "source": [
        "__Ejercicio 6:__"
      ]
    },
    {
      "cell_type": "markdown",
      "id": "95aebac0-6ef3-45de-a8a8-be4d7cb71d7c",
      "metadata": {
        "id": "95aebac0-6ef3-45de-a8a8-be4d7cb71d7c"
      },
      "source": [
        "Utilizar la función np.zeros para crear un ndarray con la forma 3x2"
      ]
    },
    {
      "cell_type": "code",
      "execution_count": null,
      "id": "d2997bc4-ae45-4b4a-aa36-7329dc32b33e",
      "metadata": {
        "colab": {
          "base_uri": "https://localhost:8080/"
        },
        "id": "d2997bc4-ae45-4b4a-aa36-7329dc32b33e",
        "outputId": "0f2d1d33-9a7f-45b8-953e-088ca02db0fc"
      },
      "outputs": [
        {
          "output_type": "execute_result",
          "data": {
            "text/plain": [
              "array([[0., 0.],\n",
              "       [0., 0.],\n",
              "       [0., 0.]])"
            ]
          },
          "metadata": {},
          "execution_count": 14
        }
      ],
      "source": [
        "np.zeros((3,2))"
      ]
    },
    {
      "cell_type": "markdown",
      "id": "61a92a21-f2ee-4b7d-bea8-24f7bec015c3",
      "metadata": {
        "id": "61a92a21-f2ee-4b7d-bea8-24f7bec015c3"
      },
      "source": [
        "Utilizar la función np.ones para crear un ndarray con la forma 3x3"
      ]
    },
    {
      "cell_type": "code",
      "execution_count": null,
      "id": "87db7972-fda2-4858-a456-6670825c6479",
      "metadata": {
        "colab": {
          "base_uri": "https://localhost:8080/"
        },
        "id": "87db7972-fda2-4858-a456-6670825c6479",
        "outputId": "786ef861-00a1-4915-8114-e6b58a06eb1a"
      },
      "outputs": [
        {
          "output_type": "execute_result",
          "data": {
            "text/plain": [
              "array([[1., 1., 1.],\n",
              "       [1., 1., 1.],\n",
              "       [1., 1., 1.]])"
            ]
          },
          "metadata": {},
          "execution_count": 15
        }
      ],
      "source": [
        "np.ones((3,3))"
      ]
    },
    {
      "cell_type": "markdown",
      "id": "b3956de0-7f1c-4424-9a95-f5c38f4ff01f",
      "metadata": {
        "id": "b3956de0-7f1c-4424-9a95-f5c38f4ff01f"
      },
      "source": [
        "Utilizar la función np.empty para crear un ndarray con la forma 2x4"
      ]
    },
    {
      "cell_type": "code",
      "execution_count": null,
      "id": "ea688cdb-6eca-43ed-9415-a11289356396",
      "metadata": {
        "colab": {
          "base_uri": "https://localhost:8080/"
        },
        "id": "ea688cdb-6eca-43ed-9415-a11289356396",
        "outputId": "17258adb-cd1e-4ece-e459-adac79e28fc9"
      },
      "outputs": [
        {
          "output_type": "execute_result",
          "data": {
            "text/plain": [
              "array([[2.29549697e-316, 2.35541533e-312, 2.14321575e-312,\n",
              "        8.48798317e-313],\n",
              "       [1.08221785e-312, 1.08221785e-312, 8.70018274e-313,\n",
              "        2.07310036e+243]])"
            ]
          },
          "metadata": {},
          "execution_count": 16
        }
      ],
      "source": [
        "np.empty((2,4))"
      ]
    },
    {
      "cell_type": "markdown",
      "id": "d97f5126-5e89-4e84-bff8-8ab2922ebccb",
      "metadata": {
        "id": "d97f5126-5e89-4e84-bff8-8ab2922ebccb"
      },
      "source": [
        "__Ejercicio 7:__"
      ]
    },
    {
      "cell_type": "markdown",
      "id": "9b4f9ead-3891-4b57-b174-b601dc0683bf",
      "metadata": {
        "id": "9b4f9ead-3891-4b57-b174-b601dc0683bf"
      },
      "source": [
        "Crear un ndarray de 1 dimensión con los valores del 0 al 9 (Ej. [1,2,3,...])"
      ]
    },
    {
      "cell_type": "code",
      "execution_count": null,
      "id": "8cdb9077-e8b1-4c35-ad3a-4ec715e79112",
      "metadata": {
        "colab": {
          "base_uri": "https://localhost:8080/"
        },
        "id": "8cdb9077-e8b1-4c35-ad3a-4ec715e79112",
        "outputId": "ab7a8766-dd7d-46a9-cb9a-db0495c35749"
      },
      "outputs": [
        {
          "output_type": "execute_result",
          "data": {
            "text/plain": [
              "array([0, 1, 2, 3, 4, 5, 6, 7, 8, 9])"
            ]
          },
          "metadata": {},
          "execution_count": 18
        }
      ],
      "source": [
        "np.arange(10)"
      ]
    },
    {
      "cell_type": "markdown",
      "id": "57be4fb9-0969-4a92-a278-387d7595c3fc",
      "metadata": {
        "id": "57be4fb9-0969-4a92-a278-387d7595c3fc"
      },
      "source": [
        "Crear un ndarray de 2 dimensión con la forma 2x5,los valores deben ser del 0 al 9 (Ej. [[0,1,2,3,4],[5,6,..]])"
      ]
    },
    {
      "cell_type": "code",
      "execution_count": null,
      "id": "79a345a8-b779-415d-b22e-e87d75b1672f",
      "metadata": {
        "colab": {
          "base_uri": "https://localhost:8080/"
        },
        "id": "79a345a8-b779-415d-b22e-e87d75b1672f",
        "outputId": "239247e5-0295-462d-f12e-007e126e83e6"
      },
      "outputs": [
        {
          "output_type": "execute_result",
          "data": {
            "text/plain": [
              "array([[0, 1, 2, 3, 4],\n",
              "       [5, 6, 7, 8, 9]])"
            ]
          },
          "metadata": {},
          "execution_count": 19
        }
      ],
      "source": [
        "np.arange(10).reshape(2,5)"
      ]
    },
    {
      "cell_type": "markdown",
      "id": "31da554b-5b01-4c72-a240-31daba880c19",
      "metadata": {
        "id": "31da554b-5b01-4c72-a240-31daba880c19"
      },
      "source": [
        "__Ejercicio 8:__"
      ]
    },
    {
      "cell_type": "markdown",
      "id": "2f5a7f25-48d2-4171-9b5f-3dd956e57e50",
      "metadata": {
        "id": "2f5a7f25-48d2-4171-9b5f-3dd956e57e50"
      },
      "source": [
        "Utilizar np.arange para crear un ndarray con los valores del 10 al 20, deben ir de 2 en 2 (Ej. [10,12,..])"
      ]
    },
    {
      "cell_type": "code",
      "execution_count": null,
      "id": "c05f65d7-55df-4bb3-862e-7eab91a3d3d9",
      "metadata": {
        "colab": {
          "base_uri": "https://localhost:8080/"
        },
        "id": "c05f65d7-55df-4bb3-862e-7eab91a3d3d9",
        "outputId": "575a5e8a-0f86-40ce-bf31-73bc1f3f4921"
      },
      "outputs": [
        {
          "output_type": "execute_result",
          "data": {
            "text/plain": [
              "array([10, 12, 14, 16, 18, 20])"
            ]
          },
          "metadata": {},
          "execution_count": 21
        }
      ],
      "source": [
        "np.arange(10,21,2)"
      ]
    },
    {
      "cell_type": "markdown",
      "id": "a42828a6-38db-46fd-8fa8-301a8838c627",
      "metadata": {
        "id": "a42828a6-38db-46fd-8fa8-301a8838c627"
      },
      "source": [
        "__Ejercicio 9:__"
      ]
    },
    {
      "cell_type": "markdown",
      "id": "fd702fb3-3cd9-45d6-8032-57bbec0a51b1",
      "metadata": {
        "id": "fd702fb3-3cd9-45d6-8032-57bbec0a51b1"
      },
      "source": [
        "Utilizar np.linspace para crear un ndarray con los valores enteros entre el 10 al 20"
      ]
    },
    {
      "cell_type": "code",
      "execution_count": null,
      "id": "85cc30af-250f-4ab8-a7cf-eed247a0dea9",
      "metadata": {
        "colab": {
          "base_uri": "https://localhost:8080/"
        },
        "id": "85cc30af-250f-4ab8-a7cf-eed247a0dea9",
        "outputId": "7d9478cb-3a19-4b80-a691-989f8e720b27"
      },
      "outputs": [
        {
          "output_type": "execute_result",
          "data": {
            "text/plain": [
              "array([10.        , 10.20408163, 10.40816327, 10.6122449 , 10.81632653,\n",
              "       11.02040816, 11.2244898 , 11.42857143, 11.63265306, 11.83673469,\n",
              "       12.04081633, 12.24489796, 12.44897959, 12.65306122, 12.85714286,\n",
              "       13.06122449, 13.26530612, 13.46938776, 13.67346939, 13.87755102,\n",
              "       14.08163265, 14.28571429, 14.48979592, 14.69387755, 14.89795918,\n",
              "       15.10204082, 15.30612245, 15.51020408, 15.71428571, 15.91836735,\n",
              "       16.12244898, 16.32653061, 16.53061224, 16.73469388, 16.93877551,\n",
              "       17.14285714, 17.34693878, 17.55102041, 17.75510204, 17.95918367,\n",
              "       18.16326531, 18.36734694, 18.57142857, 18.7755102 , 18.97959184,\n",
              "       19.18367347, 19.3877551 , 19.59183673, 19.79591837, 20.        ])"
            ]
          },
          "metadata": {},
          "execution_count": 23
        }
      ],
      "source": [
        "np.linspace(10,20,50)"
      ]
    },
    {
      "cell_type": "markdown",
      "id": "d04b6ccf-5d9b-4769-a3a2-d65d93e644d4",
      "metadata": {
        "id": "d04b6ccf-5d9b-4769-a3a2-d65d93e644d4"
      },
      "source": [
        "__Ejercicio 10:__"
      ]
    },
    {
      "cell_type": "markdown",
      "id": "a5624bd4-06c2-4959-8e10-d1b8e0227705",
      "metadata": {
        "id": "a5624bd4-06c2-4959-8e10-d1b8e0227705"
      },
      "source": [
        "Utilizar np.linspace para crear un ndarray  con 100 números entre el 0 y 2$\\pi$"
      ]
    },
    {
      "cell_type": "code",
      "execution_count": null,
      "id": "aa9439dc-b364-465c-b260-ca47fd9fcec4",
      "metadata": {
        "id": "aa9439dc-b364-465c-b260-ca47fd9fcec4"
      },
      "outputs": [],
      "source": [
        "from numpy import pi\n",
        "rad = np.linspace(0,2*pi,100)"
      ]
    },
    {
      "cell_type": "code",
      "source": [
        "rad"
      ],
      "metadata": {
        "colab": {
          "base_uri": "https://localhost:8080/"
        },
        "id": "D-NdbO97Tpad",
        "outputId": "7616b860-dfcd-4b58-88c3-fd6bd948e9d7"
      },
      "id": "D-NdbO97Tpad",
      "execution_count": null,
      "outputs": [
        {
          "output_type": "execute_result",
          "data": {
            "text/plain": [
              "array([0.        , 0.06346652, 0.12693304, 0.19039955, 0.25386607,\n",
              "       0.31733259, 0.38079911, 0.44426563, 0.50773215, 0.57119866,\n",
              "       0.63466518, 0.6981317 , 0.76159822, 0.82506474, 0.88853126,\n",
              "       0.95199777, 1.01546429, 1.07893081, 1.14239733, 1.20586385,\n",
              "       1.26933037, 1.33279688, 1.3962634 , 1.45972992, 1.52319644,\n",
              "       1.58666296, 1.65012947, 1.71359599, 1.77706251, 1.84052903,\n",
              "       1.90399555, 1.96746207, 2.03092858, 2.0943951 , 2.15786162,\n",
              "       2.22132814, 2.28479466, 2.34826118, 2.41172769, 2.47519421,\n",
              "       2.53866073, 2.60212725, 2.66559377, 2.72906028, 2.7925268 ,\n",
              "       2.85599332, 2.91945984, 2.98292636, 3.04639288, 3.10985939,\n",
              "       3.17332591, 3.23679243, 3.30025895, 3.36372547, 3.42719199,\n",
              "       3.4906585 , 3.55412502, 3.61759154, 3.68105806, 3.74452458,\n",
              "       3.8079911 , 3.87145761, 3.93492413, 3.99839065, 4.06185717,\n",
              "       4.12532369, 4.1887902 , 4.25225672, 4.31572324, 4.37918976,\n",
              "       4.44265628, 4.5061228 , 4.56958931, 4.63305583, 4.69652235,\n",
              "       4.75998887, 4.82345539, 4.88692191, 4.95038842, 5.01385494,\n",
              "       5.07732146, 5.14078798, 5.2042545 , 5.26772102, 5.33118753,\n",
              "       5.39465405, 5.45812057, 5.52158709, 5.58505361, 5.64852012,\n",
              "       5.71198664, 5.77545316, 5.83891968, 5.9023862 , 5.96585272,\n",
              "       6.02931923, 6.09278575, 6.15625227, 6.21971879, 6.28318531])"
            ]
          },
          "metadata": {},
          "execution_count": 25
        }
      ]
    },
    {
      "cell_type": "markdown",
      "id": "22b71ecd-a48f-47a5-8fb3-c53384a557b6",
      "metadata": {
        "id": "22b71ecd-a48f-47a5-8fb3-c53384a557b6"
      },
      "source": [
        "Utilizar np.sin y np.cos para obtener los valores de seno y coseno en los puntos del array anterior "
      ]
    },
    {
      "cell_type": "code",
      "execution_count": null,
      "id": "691abc23-2c53-4e71-8feb-899e067166d9",
      "metadata": {
        "id": "691abc23-2c53-4e71-8feb-899e067166d9"
      },
      "outputs": [],
      "source": [
        "seno = np.sin(rad)\n",
        "coseno = np.cos(rad)"
      ]
    },
    {
      "cell_type": "markdown",
      "id": "bc933a1f-5f84-4e0e-bfa9-13d682e74779",
      "metadata": {
        "id": "bc933a1f-5f84-4e0e-bfa9-13d682e74779"
      },
      "source": [
        "Utilizar plt.plot para graficar un círculo con los datos de seno y coseno"
      ]
    },
    {
      "cell_type": "code",
      "execution_count": null,
      "id": "67c506aa-ba33-4658-ab11-295539ffdad2",
      "metadata": {
        "colab": {
          "base_uri": "https://localhost:8080/",
          "height": 265
        },
        "id": "67c506aa-ba33-4658-ab11-295539ffdad2",
        "outputId": "62110705-af63-49c5-c11f-a12fe68cf3c6"
      },
      "outputs": [
        {
          "output_type": "display_data",
          "data": {
            "text/plain": [
              "<Figure size 432x288 with 1 Axes>"
            ],
            "image/png": "[encoded data removed]"
          },
          "metadata": {
            "needs_background": "light"
          }
        }
      ],
      "source": [
        "plt.plot(seno,coseno)\n",
        "plt.show()"
      ]
    },
    {
      "cell_type": "markdown",
      "id": "155bbcd6-88d5-4cdc-9a05-c50f26f5187f",
      "metadata": {
        "id": "155bbcd6-88d5-4cdc-9a05-c50f26f5187f"
      },
      "source": [
        "__Ejercicio 11:__"
      ]
    },
    {
      "cell_type": "markdown",
      "id": "c0b81a7c-aa51-4400-9527-130a5bbcc8d5",
      "metadata": {
        "id": "c0b81a7c-aa51-4400-9527-130a5bbcc8d5"
      },
      "source": [
        "Utilizar plt.plot para graficar los valores de seno y coseno por separado"
      ]
    },
    {
      "cell_type": "code",
      "execution_count": null,
      "id": "6e91a06c-c9ec-4600-a220-1c3e75668def",
      "metadata": {
        "id": "6e91a06c-c9ec-4600-a220-1c3e75668def"
      },
      "outputs": [],
      "source": []
    },
    {
      "cell_type": "markdown",
      "id": "8bd317ad-9cae-4dff-a928-726ebda177bf",
      "metadata": {
        "id": "8bd317ad-9cae-4dff-a928-726ebda177bf"
      },
      "source": [
        "__Ejercicio 12:__"
      ]
    },
    {
      "cell_type": "code",
      "execution_count": null,
      "id": "e3319954-862f-4bdf-998e-d5f24781a40d",
      "metadata": {
        "colab": {
          "base_uri": "https://localhost:8080/"
        },
        "id": "e3319954-862f-4bdf-998e-d5f24781a40d",
        "outputId": "cf87e107-6439-45f1-920f-9ec7319822c1"
      },
      "outputs": [
        {
          "output_type": "stream",
          "name": "stdout",
          "text": [
            "[10. 12. 14. 16. 18. 20.] [ 5.  9. 13. 17. 21. 25.]\n"
          ]
        }
      ],
      "source": [
        "a= np.linspace(10,20,6)\n",
        "b= np.linspace(5,25,6)\n",
        "print(a,b)"
      ]
    },
    {
      "cell_type": "markdown",
      "id": "03a56414-a7b0-4dff-a351-11af200156ee",
      "metadata": {
        "id": "03a56414-a7b0-4dff-a351-11af200156ee"
      },
      "source": [
        "Sumar los valores de los ndarray \"a\" y \"b\""
      ]
    },
    {
      "cell_type": "code",
      "execution_count": null,
      "id": "98e5e936-d60c-4d71-a750-2f9a2f8d21bf",
      "metadata": {
        "colab": {
          "base_uri": "https://localhost:8080/"
        },
        "id": "98e5e936-d60c-4d71-a750-2f9a2f8d21bf",
        "outputId": "8dd032ba-2e37-4455-8cf5-5891c2aa48ff"
      },
      "outputs": [
        {
          "output_type": "execute_result",
          "data": {
            "text/plain": [
              "array([15., 21., 27., 33., 39., 45.])"
            ]
          },
          "metadata": {},
          "execution_count": 29
        }
      ],
      "source": [
        "a + b"
      ]
    },
    {
      "cell_type": "markdown",
      "id": "fc20ad08-c098-4593-8b9c-dbcd87937c56",
      "metadata": {
        "id": "fc20ad08-c098-4593-8b9c-dbcd87937c56"
      },
      "source": [
        "Unir los ndarray \"a\" y \"b\", guardarlo en la variable c"
      ]
    },
    {
      "cell_type": "code",
      "execution_count": null,
      "id": "eac3bddb-1e5e-4357-9bc6-61637c2c6d26",
      "metadata": {
        "id": "eac3bddb-1e5e-4357-9bc6-61637c2c6d26"
      },
      "outputs": [],
      "source": [
        "c = np.concatenate((a,b))"
      ]
    },
    {
      "cell_type": "code",
      "source": [
        "c"
      ],
      "metadata": {
        "colab": {
          "base_uri": "https://localhost:8080/"
        },
        "id": "lXm7Sb0EUeAS",
        "outputId": "2608fa35-1c2c-4822-cd10-1974f523d096"
      },
      "id": "lXm7Sb0EUeAS",
      "execution_count": null,
      "outputs": [
        {
          "output_type": "execute_result",
          "data": {
            "text/plain": [
              "array([10., 12., 14., 16., 18., 20.,  5.,  9., 13., 17., 21., 25.])"
            ]
          },
          "metadata": {},
          "execution_count": 32
        }
      ]
    },
    {
      "cell_type": "markdown",
      "id": "378dd0d9-1363-4dfb-ba87-674921eb979e",
      "metadata": {
        "id": "378dd0d9-1363-4dfb-ba87-674921eb979e"
      },
      "source": [
        "Ordenar los valores del ndarray c"
      ]
    },
    {
      "cell_type": "code",
      "execution_count": null,
      "id": "5dc18067-228d-4596-b481-32f2bfd1c21e",
      "metadata": {
        "colab": {
          "base_uri": "https://localhost:8080/"
        },
        "id": "5dc18067-228d-4596-b481-32f2bfd1c21e",
        "outputId": "85536557-7e77-454b-8b4a-8e75212f6d4f"
      },
      "outputs": [
        {
          "output_type": "execute_result",
          "data": {
            "text/plain": [
              "array([ 5.,  9., 10., 12., 13., 14., 16., 17., 18., 20., 21., 25.])"
            ]
          },
          "metadata": {},
          "execution_count": 37
        }
      ],
      "source": [
        "c.sort()\n",
        "c"
      ]
    },
    {
      "cell_type": "markdown",
      "id": "7b311d70-aedb-42c5-a1d6-690d0a9919b3",
      "metadata": {
        "id": "7b311d70-aedb-42c5-a1d6-690d0a9919b3"
      },
      "source": [
        "__Ejercicio 13:__"
      ]
    },
    {
      "cell_type": "markdown",
      "id": "4965dab5-9b59-40b7-8246-4cf089550b74",
      "metadata": {
        "id": "4965dab5-9b59-40b7-8246-4cf089550b74"
      },
      "source": [
        "Utilizar rg.random para generar un ndarray de 1000 números aleatorios entre el 0 y 1"
      ]
    },
    {
      "cell_type": "code",
      "execution_count": null,
      "id": "336bd3a7-b45d-4a1e-bcce-74910ec6b328",
      "metadata": {
        "id": "336bd3a7-b45d-4a1e-bcce-74910ec6b328"
      },
      "outputs": [],
      "source": [
        "rg = np.random.default_rng(2)"
      ]
    },
    {
      "cell_type": "code",
      "execution_count": null,
      "id": "b91eda2e-1ae1-44fe-845d-f38fa71da28e",
      "metadata": {
        "id": "b91eda2e-1ae1-44fe-845d-f38fa71da28e"
      },
      "outputs": [],
      "source": [
        "aleatorio = rg.random(1000)"
      ]
    },
    {
      "cell_type": "code",
      "source": [
        "plt.hist(aleatorio, bins = 100)\n",
        "plt.show()"
      ],
      "metadata": {
        "colab": {
          "base_uri": "https://localhost:8080/",
          "height": 265
        },
        "id": "Ev3GyTOtVHJn",
        "outputId": "1553495c-1528-4837-fefc-53d3df25b117"
      },
      "id": "Ev3GyTOtVHJn",
      "execution_count": null,
      "outputs": [
        {
          "output_type": "display_data",
          "data": {
            "text/plain": [
              "<Figure size 432x288 with 1 Axes>"
            ],
            "image/png": "[encoded data removed]"
          },
          "metadata": {
            "needs_background": "light"
          }
        }
      ]
    },
    {
      "cell_type": "markdown",
      "id": "93474f2c-03ed-4c5e-8eaf-58503cf1476e",
      "metadata": {
        "id": "93474f2c-03ed-4c5e-8eaf-58503cf1476e"
      },
      "source": [
        "__Ejercicio 14:__"
      ]
    },
    {
      "cell_type": "markdown",
      "id": "ce6d972e-370e-4c20-aa5f-da7842f765a9",
      "metadata": {
        "id": "ce6d972e-370e-4c20-aa5f-da7842f765a9"
      },
      "source": [
        "Utilizar rg.normal para generar 100000 valores aleatorios que sigan una distribución normal"
      ]
    },
    {
      "cell_type": "code",
      "execution_count": null,
      "id": "f6cd3814-1cf1-47cf-98be-2dac3bcd3573",
      "metadata": {
        "colab": {
          "base_uri": "https://localhost:8080/"
        },
        "id": "f6cd3814-1cf1-47cf-98be-2dac3bcd3573",
        "outputId": "cd4d61ca-e0cc-4c4d-c1aa-10c7b5c75ab7"
      },
      "outputs": [
        {
          "output_type": "execute_result",
          "data": {
            "text/plain": [
              "array([14.16583212, 12.51793341, 10.40295182, ..., 17.13003035,\n",
              "       15.01863347,  8.69005132])"
            ]
          },
          "metadata": {},
          "execution_count": 50
        }
      ],
      "source": [
        "normal = rg.normal(10,5,100000)\n",
        "normal"
      ]
    },
    {
      "cell_type": "code",
      "execution_count": null,
      "id": "6aefe781-fce0-475e-b583-09642e942696",
      "metadata": {
        "colab": {
          "base_uri": "https://localhost:8080/",
          "height": 265
        },
        "id": "6aefe781-fce0-475e-b583-09642e942696",
        "outputId": "0cd54dbe-65ff-4382-fad6-67cb45a5e321"
      },
      "outputs": [
        {
          "output_type": "display_data",
          "data": {
            "text/plain": [
              "<Figure size 432x288 with 1 Axes>"
            ],
            "image/png": "[encoded data removed]"
          },
          "metadata": {
            "needs_background": "light"
          }
        }
      ],
      "source": [
        "plt.hist(normal, bins = 1000)\n",
        "plt.show()"
      ]
    },
    {
      "cell_type": "markdown",
      "id": "1159dfcb-d59b-48f4-89b6-a1b5778595a0",
      "metadata": {
        "id": "1159dfcb-d59b-48f4-89b6-a1b5778595a0"
      },
      "source": [
        "__Ejercicio 15:__"
      ]
    },
    {
      "cell_type": "markdown",
      "id": "55d97f65-d5b4-4a8d-90c9-d6ef6759c209",
      "metadata": {
        "id": "55d97f65-d5b4-4a8d-90c9-d6ef6759c209"
      },
      "source": [
        "Utilizar rg.integers para generar 2000 números aleatorios enteros entre el 0 y el 19"
      ]
    },
    {
      "cell_type": "code",
      "execution_count": null,
      "id": "545685a7-641e-412c-a0e4-568654ce2220",
      "metadata": {
        "id": "545685a7-641e-412c-a0e4-568654ce2220"
      },
      "outputs": [],
      "source": [
        "enteros = rg.integers(20, size = 2000)"
      ]
    },
    {
      "cell_type": "code",
      "execution_count": null,
      "id": "87b4f720-2e82-41ae-85e6-2ca3e70eeecd",
      "metadata": {
        "colab": {
          "base_uri": "https://localhost:8080/",
          "height": 265
        },
        "id": "87b4f720-2e82-41ae-85e6-2ca3e70eeecd",
        "outputId": "cdacca4f-b1bf-4605-cab5-f030e7215625"
      },
      "outputs": [
        {
          "output_type": "display_data",
          "data": {
            "text/plain": [
              "<Figure size 432x288 with 1 Axes>"
            ],
            "image/png": "[encoded data removed]"
          },
          "metadata": {
            "needs_background": "light"
          }
        }
      ],
      "source": [
        "plt.hist(enteros)\n",
        "plt.show()"
      ]
    },
    {
      "cell_type": "code",
      "execution_count": null,
      "id": "8fd03ef3-875a-44ba-914c-26e57cd4dcba",
      "metadata": {
        "id": "8fd03ef3-875a-44ba-914c-26e57cd4dcba"
      },
      "outputs": [],
      "source": [
        "#np.unique(enteros, return_counts=True) Comprobar que los valores son muy similares"
      ]
    },
    {
      "cell_type": "markdown",
      "id": "3324d3f5-a77a-42c0-ba7e-25313e43bb58",
      "metadata": {
        "id": "3324d3f5-a77a-42c0-ba7e-25313e43bb58"
      },
      "source": [
        "__Ejercicio 16:__"
      ]
    },
    {
      "cell_type": "markdown",
      "id": "d907b4dc-301e-4b21-bde5-4dd96fdcd076",
      "metadata": {
        "id": "d907b4dc-301e-4b21-bde5-4dd96fdcd076"
      },
      "source": [
        "Utilizar rg.choice para elegir 10 números aleatorios SIN REPETIR entre el 0 y el 25"
      ]
    },
    {
      "cell_type": "code",
      "execution_count": null,
      "id": "7ec02ffd-eef3-4e3e-b2e9-59450b94d3bd",
      "metadata": {
        "colab": {
          "base_uri": "https://localhost:8080/"
        },
        "id": "7ec02ffd-eef3-4e3e-b2e9-59450b94d3bd",
        "outputId": "82e8b158-4f2f-4c89-a7c7-5da5857d06d4"
      },
      "outputs": [
        {
          "output_type": "execute_result",
          "data": {
            "text/plain": [
              "array([23,  7,  4, 21, 13, 15, 12,  1, 17,  5])"
            ]
          },
          "metadata": {},
          "execution_count": 55
        }
      ],
      "source": [
        "rg.choice(26, size = 10, replace = False)"
      ]
    },
    {
      "cell_type": "markdown",
      "id": "385775b3-86a0-4715-908b-dfa75dca95f2",
      "metadata": {
        "id": "385775b3-86a0-4715-908b-dfa75dca95f2"
      },
      "source": [
        "__Ejercicio 17:__"
      ]
    },
    {
      "cell_type": "code",
      "execution_count": null,
      "id": "76b0c5a0-5b28-48fe-9485-baad8cf663c6",
      "metadata": {
        "colab": {
          "base_uri": "https://localhost:8080/"
        },
        "id": "76b0c5a0-5b28-48fe-9485-baad8cf663c6",
        "outputId": "b888fd38-2b76-4b07-de81-f529fbc902c2"
      },
      "outputs": [
        {
          "output_type": "execute_result",
          "data": {
            "text/plain": [
              "array([ 0,  8, 16,  0, 13,  9, 16,  2])"
            ]
          },
          "metadata": {},
          "execution_count": 56
        }
      ],
      "source": [
        "estadisticos = rg.integers(20,size=8)\n",
        "estadisticos"
      ]
    },
    {
      "cell_type": "markdown",
      "id": "012b5e04-220e-433c-b0ec-b21aa9d326cf",
      "metadata": {
        "id": "012b5e04-220e-433c-b0ec-b21aa9d326cf"
      },
      "source": [
        "Utilizar la función min() para obtener el valor mínimo en el ndarray \"estadisticos\""
      ]
    },
    {
      "cell_type": "code",
      "execution_count": null,
      "id": "e4a38410-43ac-4c7c-92bd-c3d65c0b5432",
      "metadata": {
        "colab": {
          "base_uri": "https://localhost:8080/"
        },
        "id": "e4a38410-43ac-4c7c-92bd-c3d65c0b5432",
        "outputId": "623b1c6b-191e-44bb-cd32-1870181d3203"
      },
      "outputs": [
        {
          "output_type": "execute_result",
          "data": {
            "text/plain": [
              "0"
            ]
          },
          "metadata": {},
          "execution_count": 57
        }
      ],
      "source": [
        "estadisticos.min()"
      ]
    },
    {
      "cell_type": "markdown",
      "id": "117dddae-3654-43cf-9e8d-54e783a674cb",
      "metadata": {
        "id": "117dddae-3654-43cf-9e8d-54e783a674cb"
      },
      "source": [
        "Utilizar la función max() para obtener el valor máximo en el ndarray \"estadisticos\""
      ]
    },
    {
      "cell_type": "code",
      "execution_count": null,
      "id": "abaf6bb5-c24d-4607-b7e2-f6fafde47d97",
      "metadata": {
        "colab": {
          "base_uri": "https://localhost:8080/"
        },
        "id": "abaf6bb5-c24d-4607-b7e2-f6fafde47d97",
        "outputId": "fa12ce29-cf2b-46c7-a30b-744fe33bc403"
      },
      "outputs": [
        {
          "output_type": "execute_result",
          "data": {
            "text/plain": [
              "16"
            ]
          },
          "metadata": {},
          "execution_count": 58
        }
      ],
      "source": [
        "estadisticos.max()"
      ]
    },
    {
      "cell_type": "markdown",
      "id": "fd88688f-2bc0-4c5d-bcd2-af6fe9e99411",
      "metadata": {
        "id": "fd88688f-2bc0-4c5d-bcd2-af6fe9e99411"
      },
      "source": [
        "Utilizar la función mean() para obtener el valor promedio en el ndarray \"estadisticos\""
      ]
    },
    {
      "cell_type": "code",
      "execution_count": null,
      "id": "3b38b3b3-2245-4731-af11-7e19474af1cc",
      "metadata": {
        "colab": {
          "base_uri": "https://localhost:8080/"
        },
        "id": "3b38b3b3-2245-4731-af11-7e19474af1cc",
        "outputId": "c93454b9-2efd-4286-b27a-a93b74ce8094"
      },
      "outputs": [
        {
          "output_type": "execute_result",
          "data": {
            "text/plain": [
              "8.0"
            ]
          },
          "metadata": {},
          "execution_count": 59
        }
      ],
      "source": [
        "estadisticos.mean()"
      ]
    },
    {
      "cell_type": "markdown",
      "id": "e0ef2fef-cad0-4579-a8ce-b298b42fb330",
      "metadata": {
        "id": "e0ef2fef-cad0-4579-a8ce-b298b42fb330"
      },
      "source": [
        "Utilizar la función std() para obtener el valor de la desviación estandar en el ndarray \"estadisticos\""
      ]
    },
    {
      "cell_type": "code",
      "execution_count": null,
      "id": "77c908c4-d007-4baa-801a-314aab7b2369",
      "metadata": {
        "colab": {
          "base_uri": "https://localhost:8080/"
        },
        "id": "77c908c4-d007-4baa-801a-314aab7b2369",
        "outputId": "23d4d95c-9a18-477a-af8c-672bf2dfc749"
      },
      "outputs": [
        {
          "output_type": "execute_result",
          "data": {
            "text/plain": [
              "6.304760106459246"
            ]
          },
          "metadata": {},
          "execution_count": 60
        }
      ],
      "source": [
        "estadisticos.std()"
      ]
    },
    {
      "cell_type": "markdown",
      "id": "979aded7-3aa6-4248-b2f6-ea271c5f6e79",
      "metadata": {
        "id": "979aded7-3aa6-4248-b2f6-ea271c5f6e79"
      },
      "source": [
        "Utilizar la función sum() para obtener el valor al sumar todos los números en el ndarray \"estadisticos\""
      ]
    },
    {
      "cell_type": "code",
      "execution_count": null,
      "id": "ee48bd78-1b9b-4c32-b270-62f6f20a1c63",
      "metadata": {
        "colab": {
          "base_uri": "https://localhost:8080/"
        },
        "id": "ee48bd78-1b9b-4c32-b270-62f6f20a1c63",
        "outputId": "da5c62a9-f890-4000-f475-b43d87cce498"
      },
      "outputs": [
        {
          "output_type": "execute_result",
          "data": {
            "text/plain": [
              "64"
            ]
          },
          "metadata": {},
          "execution_count": 61
        }
      ],
      "source": [
        "estadisticos.sum()"
      ]
    },
    {
      "cell_type": "markdown",
      "id": "b8a7f523-541e-4ffc-9090-f6a18f852ef2",
      "metadata": {
        "id": "b8a7f523-541e-4ffc-9090-f6a18f852ef2"
      },
      "source": [
        "__Ejercicio 18:__"
      ]
    },
    {
      "cell_type": "code",
      "execution_count": null,
      "id": "acb73618-214c-4fcb-b022-1a97e618f4b1",
      "metadata": {
        "colab": {
          "base_uri": "https://localhost:8080/"
        },
        "id": "acb73618-214c-4fcb-b022-1a97e618f4b1",
        "outputId": "46d9afec-d7f5-4a84-bfa7-a0b6006ea6e3"
      },
      "outputs": [
        {
          "output_type": "execute_result",
          "data": {
            "text/plain": [
              "array([[16, 15,  0, 13],\n",
              "       [ 2,  9, 11, 15],\n",
              "       [19,  1, 10, 12],\n",
              "       [ 5, 13,  2, 11],\n",
              "       [ 4, 14, 18,  6]])"
            ]
          },
          "metadata": {},
          "execution_count": 62
        }
      ],
      "source": [
        "estadisticos_2d = rg.integers(20,size=(5,4))\n",
        "estadisticos_2d"
      ]
    },
    {
      "cell_type": "markdown",
      "id": "88696800-dfdf-4b5f-bf3b-8412b1a84e19",
      "metadata": {
        "id": "88696800-dfdf-4b5f-bf3b-8412b1a84e19"
      },
      "source": [
        "Utilizar la función min() para obtener el valor mínimo de cada columna en el ndarray \"estadisticos_2d\""
      ]
    },
    {
      "cell_type": "code",
      "execution_count": null,
      "id": "fdc54d32-3db7-4e6c-a9ef-b87680bcc1fd",
      "metadata": {
        "colab": {
          "base_uri": "https://localhost:8080/"
        },
        "id": "fdc54d32-3db7-4e6c-a9ef-b87680bcc1fd",
        "outputId": "7ed5e396-dac4-4b3a-d0ec-753dc3cb9d66"
      },
      "outputs": [
        {
          "output_type": "execute_result",
          "data": {
            "text/plain": [
              "array([2, 1, 0, 6])"
            ]
          },
          "metadata": {},
          "execution_count": 64
        }
      ],
      "source": [
        "estadisticos_2d.min(axis = 0)\n",
        "# AXIS = 0 ES COLUMNAS"
      ]
    },
    {
      "cell_type": "markdown",
      "id": "7e18ef29-8d28-41ee-b42a-c5788b7179a5",
      "metadata": {
        "id": "7e18ef29-8d28-41ee-b42a-c5788b7179a5"
      },
      "source": [
        "Utilizar la función max() para obtener el valor mínimo de cada fila en el ndarray \"estadisticos_2d\""
      ]
    },
    {
      "cell_type": "code",
      "execution_count": null,
      "id": "86f54bac-4399-46d6-8a11-866cab776aa0",
      "metadata": {
        "colab": {
          "base_uri": "https://localhost:8080/"
        },
        "id": "86f54bac-4399-46d6-8a11-866cab776aa0",
        "outputId": "9c10dfbd-736b-4567-a475-7cc4837425f3"
      },
      "outputs": [
        {
          "output_type": "execute_result",
          "data": {
            "text/plain": [
              "array([16, 15, 19, 13, 18])"
            ]
          },
          "metadata": {},
          "execution_count": 65
        }
      ],
      "source": [
        "estadisticos_2d.max(axis = 1)"
      ]
    },
    {
      "cell_type": "markdown",
      "id": "e1fa802b-7974-471d-a02a-7e17a6ab7ae4",
      "metadata": {
        "id": "e1fa802b-7974-471d-a02a-7e17a6ab7ae4"
      },
      "source": [
        "__Ejercicio 19:__"
      ]
    },
    {
      "cell_type": "code",
      "execution_count": null,
      "id": "ae7128dd-fdb9-49e7-a68f-b89aa5e7eb6d",
      "metadata": {
        "colab": {
          "base_uri": "https://localhost:8080/"
        },
        "id": "ae7128dd-fdb9-49e7-a68f-b89aa5e7eb6d",
        "outputId": "8bcf7034-c653-4d41-971f-ee71215848eb"
      },
      "outputs": [
        {
          "output_type": "execute_result",
          "data": {
            "text/plain": [
              "array([[16, 15,  0, 13],\n",
              "       [ 2,  9, 11, 15],\n",
              "       [19,  1, 10, 12],\n",
              "       [ 5, 13,  2, 11],\n",
              "       [ 4, 14, 18,  6]])"
            ]
          },
          "metadata": {},
          "execution_count": 66
        }
      ],
      "source": [
        "estadisticos_2d"
      ]
    },
    {
      "cell_type": "markdown",
      "id": "28e17497-4e11-4fad-9cf5-727078caf77e",
      "metadata": {
        "id": "28e17497-4e11-4fad-9cf5-727078caf77e"
      },
      "source": [
        "Obtener los valores menores a 12 en el ndarray \"estadisticos_2d\""
      ]
    },
    {
      "cell_type": "code",
      "execution_count": null,
      "id": "65137100-5cbc-4047-b8c7-bc9d20e0e3ca",
      "metadata": {
        "colab": {
          "base_uri": "https://localhost:8080/"
        },
        "id": "65137100-5cbc-4047-b8c7-bc9d20e0e3ca",
        "outputId": "d5487cae-b9cf-4521-8e5c-23c11357f640"
      },
      "outputs": [
        {
          "output_type": "execute_result",
          "data": {
            "text/plain": [
              "array([[False, False,  True, False],\n",
              "       [ True,  True,  True, False],\n",
              "       [False,  True,  True, False],\n",
              "       [ True, False,  True,  True],\n",
              "       [ True, False, False,  True]])"
            ]
          },
          "metadata": {},
          "execution_count": 67
        }
      ],
      "source": [
        "estadisticos_2d < 12"
      ]
    },
    {
      "cell_type": "code",
      "execution_count": null,
      "id": "5ff3cdc3-7b84-424f-8b1f-b7d9a8851d03",
      "metadata": {
        "colab": {
          "base_uri": "https://localhost:8080/"
        },
        "id": "5ff3cdc3-7b84-424f-8b1f-b7d9a8851d03",
        "outputId": "1cd383a7-08f4-426d-a7ad-f5ec098540d5"
      },
      "outputs": [
        {
          "output_type": "execute_result",
          "data": {
            "text/plain": [
              "array([ 0,  2,  9, 11,  1, 10,  5,  2, 11,  4,  6])"
            ]
          },
          "metadata": {},
          "execution_count": 68
        }
      ],
      "source": [
        "estadisticos_2d[estadisticos_2d < 12]"
      ]
    },
    {
      "cell_type": "markdown",
      "id": "a6008ae4-8a10-4ff4-92f1-1f82b82c8b5a",
      "metadata": {
        "id": "a6008ae4-8a10-4ff4-92f1-1f82b82c8b5a"
      },
      "source": [
        "__Ejercicio 20:__"
      ]
    },
    {
      "cell_type": "code",
      "execution_count": null,
      "id": "25fdd4ed-5a3f-4a3b-8a08-486776700b92",
      "metadata": {
        "colab": {
          "base_uri": "https://localhost:8080/"
        },
        "id": "25fdd4ed-5a3f-4a3b-8a08-486776700b92",
        "outputId": "057a91ba-9bfc-4167-aa0a-936cccc37abd"
      },
      "outputs": [
        {
          "output_type": "stream",
          "name": "stdout",
          "text": [
            "[[16 19 16]\n",
            " [18  0 18]\n",
            " [ 3 17  3]] \n",
            "\n",
            " [[ 0  7  5]\n",
            " [10  8  4]\n",
            " [16  6  4]]\n"
          ]
        }
      ],
      "source": [
        "np1 = rg.integers(20,size=(3,3))\n",
        "np2 = rg.integers(20,size=(3,3))\n",
        "print(np1,\"\\n\\n\",np2)"
      ]
    },
    {
      "cell_type": "markdown",
      "id": "ad017f47-c974-4168-9c79-bd407cec5ef8",
      "metadata": {
        "id": "ad017f47-c974-4168-9c79-bd407cec5ef8"
      },
      "source": [
        "Utilizar np.vstack para unir los ndarray \"np1\" y \"np2\" verticalmente"
      ]
    },
    {
      "cell_type": "code",
      "execution_count": null,
      "id": "c8b9b36b-7bfb-4027-91ea-626227546983",
      "metadata": {
        "colab": {
          "base_uri": "https://localhost:8080/"
        },
        "id": "c8b9b36b-7bfb-4027-91ea-626227546983",
        "outputId": "b6badd67-3986-4406-919e-ca44d163b3fc"
      },
      "outputs": [
        {
          "output_type": "execute_result",
          "data": {
            "text/plain": [
              "array([[16, 19, 16],\n",
              "       [18,  0, 18],\n",
              "       [ 3, 17,  3],\n",
              "       [ 0,  7,  5],\n",
              "       [10,  8,  4],\n",
              "       [16,  6,  4]])"
            ]
          },
          "metadata": {},
          "execution_count": 70
        }
      ],
      "source": [
        "np.vstack((np1,np2))"
      ]
    },
    {
      "cell_type": "markdown",
      "id": "66f8921c-45d8-4c7d-9430-999d5fa3c335",
      "metadata": {
        "id": "66f8921c-45d8-4c7d-9430-999d5fa3c335"
      },
      "source": [
        "Utilizar np.vstack para unir los ndarray \"np1\" y \"np2\" horizontalmente"
      ]
    },
    {
      "cell_type": "code",
      "execution_count": null,
      "id": "44fbc502-904a-461e-a74f-23d10bc37a12",
      "metadata": {
        "colab": {
          "base_uri": "https://localhost:8080/"
        },
        "id": "44fbc502-904a-461e-a74f-23d10bc37a12",
        "outputId": "3c93bde0-b590-4a1e-99be-26a31f589c35"
      },
      "outputs": [
        {
          "output_type": "execute_result",
          "data": {
            "text/plain": [
              "array([[16, 19, 16,  0,  7,  5],\n",
              "       [18,  0, 18, 10,  8,  4],\n",
              "       [ 3, 17,  3, 16,  6,  4]])"
            ]
          },
          "metadata": {},
          "execution_count": 71
        }
      ],
      "source": [
        "np.hstack((np1,np2))"
      ]
    },
    {
      "cell_type": "markdown",
      "id": "a7eafbf0-968b-41cb-b966-c67bb42bf049",
      "metadata": {
        "id": "a7eafbf0-968b-41cb-b966-c67bb42bf049"
      },
      "source": [
        "__Ejercicio 21:__"
      ]
    },
    {
      "cell_type": "code",
      "execution_count": null,
      "id": "a929ea5f-6635-48f3-a32a-d6f5bea564f7",
      "metadata": {
        "colab": {
          "base_uri": "https://localhost:8080/"
        },
        "id": "a929ea5f-6635-48f3-a32a-d6f5bea564f7",
        "outputId": "91bc7ce7-1605-4b82-d587-a13cff3fd5e0"
      },
      "outputs": [
        {
          "output_type": "execute_result",
          "data": {
            "text/plain": [
              "array([ 4,  4, 15, 13,  3, 16, 19, 10, 14, 11])"
            ]
          },
          "metadata": {},
          "execution_count": 72
        }
      ],
      "source": [
        "enteros = rg.integers(20,size=(10))\n",
        "enteros"
      ]
    },
    {
      "cell_type": "markdown",
      "id": "f07668c4-1d9a-46e9-8e6d-a80aaeb3961c",
      "metadata": {
        "id": "f07668c4-1d9a-46e9-8e6d-a80aaeb3961c"
      },
      "source": [
        "Seleccionar los primeros 6 valores del ndarray \"enteros\""
      ]
    },
    {
      "cell_type": "code",
      "execution_count": null,
      "id": "62f98dce-8e1e-4749-86b4-e1bed5f44081",
      "metadata": {
        "colab": {
          "base_uri": "https://localhost:8080/"
        },
        "id": "62f98dce-8e1e-4749-86b4-e1bed5f44081",
        "outputId": "efc7f25d-b68c-4664-c537-9abc80ff85e2"
      },
      "outputs": [
        {
          "output_type": "execute_result",
          "data": {
            "text/plain": [
              "array([ 4,  4, 15, 13,  3, 16])"
            ]
          },
          "metadata": {},
          "execution_count": 73
        }
      ],
      "source": [
        "enteros[0:6]"
      ]
    },
    {
      "cell_type": "markdown",
      "id": "7c243a71-e44a-4467-9621-0da26997e335",
      "metadata": {
        "id": "7c243a71-e44a-4467-9621-0da26997e335"
      },
      "source": [
        "Seleccionar los valores en la posición 0,2 y 4 del ndarray \"enteros\""
      ]
    },
    {
      "cell_type": "code",
      "execution_count": null,
      "id": "5e09e7ea-3ac8-48ba-8330-9b4213db98bb",
      "metadata": {
        "colab": {
          "base_uri": "https://localhost:8080/"
        },
        "id": "5e09e7ea-3ac8-48ba-8330-9b4213db98bb",
        "outputId": "0833b010-cec7-482f-96d0-7bc0ced50e14"
      },
      "outputs": [
        {
          "output_type": "execute_result",
          "data": {
            "text/plain": [
              "array([ 4, 15,  3])"
            ]
          },
          "metadata": {},
          "execution_count": 74
        }
      ],
      "source": [
        "enteros[0:6:2]"
      ]
    },
    {
      "cell_type": "markdown",
      "id": "6178664b-de22-41cb-a499-53d704784b94",
      "metadata": {
        "id": "6178664b-de22-41cb-a499-53d704784b94"
      },
      "source": [
        "Seleccionar todos los valores con un indice par en el ndarray \"enteros\" (0,2,4,...)"
      ]
    },
    {
      "cell_type": "code",
      "execution_count": null,
      "id": "11169abe-382b-4b5f-8332-371f3edabcfc",
      "metadata": {
        "colab": {
          "base_uri": "https://localhost:8080/"
        },
        "id": "11169abe-382b-4b5f-8332-371f3edabcfc",
        "outputId": "6a0ec7ea-04f0-4b71-ec85-4b5f34b07f02"
      },
      "outputs": [
        {
          "output_type": "execute_result",
          "data": {
            "text/plain": [
              "array([ 4, 15,  3, 19, 14])"
            ]
          },
          "metadata": {},
          "execution_count": 75
        }
      ],
      "source": [
        "enteros[::2]"
      ]
    },
    {
      "cell_type": "markdown",
      "id": "fd2d863b-c2cf-4de4-bcdc-59fdfb9170a5",
      "metadata": {
        "id": "fd2d863b-c2cf-4de4-bcdc-59fdfb9170a5"
      },
      "source": [
        "__Ejercicio 22:__"
      ]
    },
    {
      "cell_type": "code",
      "execution_count": null,
      "id": "6c5257e2-4553-48a6-a8f2-765c128d18c3",
      "metadata": {
        "colab": {
          "base_uri": "https://localhost:8080/"
        },
        "id": "6c5257e2-4553-48a6-a8f2-765c128d18c3",
        "outputId": "80918202-9665-4527-c94b-decd83751a39"
      },
      "outputs": [
        {
          "output_type": "execute_result",
          "data": {
            "text/plain": [
              "array([[ 3, 18, 19,  0,  5],\n",
              "       [18, 13, 11, 12,  5],\n",
              "       [ 4,  5, 16,  9, 19],\n",
              "       [ 1,  1,  7, 13,  6],\n",
              "       [ 6, 15, 11, 11, 16],\n",
              "       [ 7, 18,  5, 11, 16],\n",
              "       [15,  0,  8, 19, 13],\n",
              "       [16, 12, 16,  7,  7]])"
            ]
          },
          "metadata": {},
          "execution_count": 76
        }
      ],
      "source": [
        "enteros_2d = rg.integers(20,size=(8,5))\n",
        "enteros_2d"
      ]
    },
    {
      "cell_type": "markdown",
      "id": "37bc0a12-9c60-4973-a312-80804c150ada",
      "metadata": {
        "id": "37bc0a12-9c60-4973-a312-80804c150ada"
      },
      "source": [
        "Seleccionar el cuarto valor en el segundo array de \"enteros_2d\""
      ]
    },
    {
      "cell_type": "code",
      "execution_count": null,
      "id": "b1647bbd-6a30-4d1b-a04e-2381da07d9d0",
      "metadata": {
        "colab": {
          "base_uri": "https://localhost:8080/"
        },
        "id": "b1647bbd-6a30-4d1b-a04e-2381da07d9d0",
        "outputId": "74add958-7bca-48c3-b201-b978fa30ff5a"
      },
      "outputs": [
        {
          "output_type": "execute_result",
          "data": {
            "text/plain": [
              "12"
            ]
          },
          "metadata": {},
          "execution_count": 78
        }
      ],
      "source": [
        "enteros_2d[1,3]"
      ]
    },
    {
      "cell_type": "markdown",
      "id": "8735f0f9-4d36-4640-b47c-539587896e73",
      "metadata": {
        "id": "8735f0f9-4d36-4640-b47c-539587896e73"
      },
      "source": [
        "Seleccionar el segundo valor en los arrays con indice 3, 4 y 5 de \"enteros_2d\""
      ]
    },
    {
      "cell_type": "code",
      "execution_count": null,
      "id": "40b2a7ad-eaea-425d-a8bc-058fba013c59",
      "metadata": {
        "colab": {
          "base_uri": "https://localhost:8080/"
        },
        "id": "40b2a7ad-eaea-425d-a8bc-058fba013c59",
        "outputId": "d6c2c8c3-f44f-44ef-87c6-828f6536611e"
      },
      "outputs": [
        {
          "output_type": "execute_result",
          "data": {
            "text/plain": [
              "array([ 1, 15, 18])"
            ]
          },
          "metadata": {},
          "execution_count": 79
        }
      ],
      "source": [
        "enteros_2d[3:6,1]"
      ]
    },
    {
      "cell_type": "markdown",
      "id": "ed773fbb-8795-4e25-adb1-3952ab3be59f",
      "metadata": {
        "id": "ed773fbb-8795-4e25-adb1-3952ab3be59f"
      },
      "source": [
        "Seleccionar los 2 primeros valores en los arrays con indice 4, 5 y 6 de \"enteros_2d\""
      ]
    },
    {
      "cell_type": "code",
      "execution_count": null,
      "id": "730ceebe-04bc-46d1-a8a2-d98207d66afb",
      "metadata": {
        "colab": {
          "base_uri": "https://localhost:8080/"
        },
        "id": "730ceebe-04bc-46d1-a8a2-d98207d66afb",
        "outputId": "95039c40-378b-4774-9dd1-978df6d156a7"
      },
      "outputs": [
        {
          "output_type": "execute_result",
          "data": {
            "text/plain": [
              "array([[ 6, 15],\n",
              "       [ 7, 18],\n",
              "       [15,  0]])"
            ]
          },
          "metadata": {},
          "execution_count": 80
        }
      ],
      "source": [
        "enteros_2d[4:7,0:2]"
      ]
    }
  ],
  "metadata": {
    "kernelspec": {
      "display_name": "Python 3 (ipykernel)",
      "language": "python",
      "name": "python3"
    },
    "language_info": {
      "codemirror_mode": {
        "name": "ipython",
        "version": 3
      },
      "file_extension": ".py",
      "mimetype": "text/x-python",
      "name": "python",
      "nbconvert_exporter": "python",
      "pygments_lexer": "ipython3",
      "version": "3.9.7"
    },
    "colab": {
      "provenance": [],
      "include_colab_link": true
    }
  },
  "nbformat": 4,
  "nbformat_minor": 5
}